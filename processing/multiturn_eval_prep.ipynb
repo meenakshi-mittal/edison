{
  "nbformat": 4,
  "nbformat_minor": 0,
  "metadata": {
    "colab": {
      "provenance": []
    },
    "kernelspec": {
      "name": "python3",
      "display_name": "Python 3"
    },
    "language_info": {
      "name": "python"
    }
  },
  "cells": [
    {
      "cell_type": "code",
      "execution_count": null,
      "metadata": {
        "id": "VrN1hEI_MxHP"
      },
      "outputs": [],
      "source": [
        "import os\n",
        "import ast\n",
        "import pandas as pd\n",
        "from IPython.display import clear_output\n",
        "\n",
        "import warnings\n",
        "warnings.filterwarnings('ignore')\n",
        "\n",
        "from google.colab import drive\n",
        "drive.mount('/content/drive')"
      ]
    },
    {
      "cell_type": "markdown",
      "source": [
        "## Eval prep"
      ],
      "metadata": {
        "id": "IjIgHDkKM3sw"
      }
    },
    {
      "cell_type": "code",
      "source": [
        "sem = \"sp24\"\n",
        "class_id = f\"data8_{sem}_multiturn\""
      ],
      "metadata": {
        "id": "NzLEzMcqIGhl"
      },
      "execution_count": null,
      "outputs": []
    },
    {
      "cell_type": "code",
      "source": [
        "eval_data = pd.read_csv(f\"drive/MyDrive/EdSupport/Deployment/Ed_Data_Processing/Data/data_(phase_4)/{class_id}/qa.csv\")\n",
        "eval_data[\"memory\"] = eval_data[\"memory\"].apply(ast.literal_eval)\n",
        "eval_data.head()"
      ],
      "metadata": {
        "id": "7fN7pRFH1j9v"
      },
      "execution_count": null,
      "outputs": []
    },
    {
      "cell_type": "code",
      "source": [
        "eval_data['category'].unique()"
      ],
      "metadata": {
        "id": "US6BjCIc2iZJ"
      },
      "execution_count": null,
      "outputs": []
    },
    {
      "cell_type": "code",
      "source": [
        "eval_data['chat_history'] = [[] for _ in range(len(eval_data))]\n",
        "eval_data['sem'] = sem\n",
        "eval_data.rename(columns={'document_q': 'xml', 'answer': 'ground_answer'}, inplace=True)\n",
        "eval_data.fillna(\"\", inplace=True)\n",
        "eval_data.head(20)"
      ],
      "metadata": {
        "id": "Q0N9hmHtPeCE"
      },
      "execution_count": null,
      "outputs": []
    },
    {
      "cell_type": "code",
      "source": [
        "eval_data = eval_data[[\"chat_history\", \"question\", \"title\", \"category\", \"subcategory\", \"xml\", \"sem\", \"ground_answer\", \"memory\"]]"
      ],
      "metadata": {
        "id": "Iw-m028IPVX1"
      },
      "execution_count": null,
      "outputs": []
    },
    {
      "cell_type": "code",
      "source": [
        "eval_data[\"subcategory\"] = eval_data[\"subcategory\"].str.replace(\".\", \"\")\n",
        "# uncomment the following line if your class uses subsubcategories on Ed\n",
        "# eval_data[\"subsubcategory\"] = eval_data[\"subsubcategory\"].str.replace(\".\", \"\")"
      ],
      "metadata": {
        "id": "djjYI-6RV0bo"
      },
      "execution_count": null,
      "outputs": []
    },
    {
      "cell_type": "code",
      "source": [
        "eval_data.head()"
      ],
      "metadata": {
        "id": "gnui5mgwTilm"
      },
      "execution_count": null,
      "outputs": []
    },
    {
      "cell_type": "code",
      "source": [
        "if not os.path.exists(f\"drive/MyDrive/EdSupport/Deployment/Ed_Data_Processing/Data/data_(phase_4)/{class_id}\"):\n",
        "  os.mkdir(f\"drive/MyDrive/EdSupport/Deployment/Ed_Data_Processing/Data/data_(phase_4)/{class_id}\")\n",
        "\n",
        "eval_data.to_csv(f\"drive/MyDrive/EdSupport/Deployment/Ed_Data_Processing/Data/data_(phase_4)/{class_id}/eval_prep.csv\")"
      ],
      "metadata": {
        "id": "Z15QPa9gJnMt"
      },
      "execution_count": null,
      "outputs": []
    }
  ]
}